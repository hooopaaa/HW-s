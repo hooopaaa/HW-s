{
 "cells": [
  {
   "cell_type": "markdown",
   "metadata": {},
   "source": [
    "# Задание 1"
   ]
  },
  {
   "cell_type": "code",
   "execution_count": 6,
   "metadata": {},
   "outputs": [],
   "source": [
    "def compare_addr(val1, val2):\n",
    "  assert type(val1) == str and type(val2) == str\n",
    "  return id(val1) == id(val2)"
   ]
  },
  {
   "cell_type": "code",
   "execution_count": 7,
   "metadata": {},
   "outputs": [],
   "source": [
    "tests = [\n",
    "    (\"a\",\"a\", True),\n",
    "    (\"a\",\"b\", False),\n",
    "    (\"a a\", \"a a\", True),\n",
    "    (\"a a\", \"a b\", False)\n",
    "]\n",
    "for t in tests:\n",
    "  a, b, result = t\n",
    "  assert compare_addr(a,b) == result"
   ]
  },
  {
   "cell_type": "markdown",
   "metadata": {},
   "source": [
    "# Задание 2"
   ]
  },
  {
   "cell_type": "code",
   "execution_count": 10,
   "metadata": {},
   "outputs": [],
   "source": [
    "def substract_or_add(val1, val2):\n",
    "    if type(val1) == type(val2):\n",
    "        if hasattr(val1, '__sub__'):\n",
    "            return val1 - val2\n",
    "        elif hasattr(val1, '__add__'):\n",
    "            return val1 + val2\n",
    "    return None"
   ]
  },
  {
   "cell_type": "code",
   "execution_count": 11,
   "metadata": {},
   "outputs": [],
   "source": [
    "assert substract_or_add('a', 'b') == 'ab'\n",
    "assert substract_or_add(0, 1) == -1\n",
    "assert substract_or_add([1,2], [3,4]) == [1,2,3,4]\n",
    "assert substract_or_add(False, True) == -1\n",
    "assert substract_or_add(set([1,2]), set([1,4])) == set([2])\n",
    "assert substract_or_add(None, None) == None"
   ]
  },
  {
   "cell_type": "markdown",
   "metadata": {},
   "source": [
    "# Задание 3"
   ]
  },
  {
   "cell_type": "code",
   "execution_count": 12,
   "metadata": {},
   "outputs": [],
   "source": [
    "def multi(a):\n",
    "    def multi_internal(b):\n",
    "        if 'multiplier' in globals():\n",
    "            return multiplier * b\n",
    "        else:\n",
    "            return a * b\n",
    "    return multi_internal"
   ]
  },
  {
   "cell_type": "code",
   "execution_count": 13,
   "metadata": {},
   "outputs": [],
   "source": [
    "try:\n",
    "  del(multiplier)\n",
    "except NameError:\n",
    "  pass"
   ]
  },
  {
   "cell_type": "code",
   "execution_count": 14,
   "metadata": {},
   "outputs": [],
   "source": [
    "assert multi(5)(4) == 20\n",
    "multiplier = 10\n",
    "assert multi(5)(4) == 40"
   ]
  },
  {
   "cell_type": "markdown",
   "metadata": {},
   "source": [
    "# Задание 4\n",
    "Да, такое возможно, например, при использовании float('nan')\n",
    "a is b возвращает True, потому что is проверяет, указывают ли переменные на один и тот же объект, а == сравнивает значения, для nan результат сравнения всегда False, даже с самим собой"
   ]
  },
  {
   "cell_type": "code",
   "execution_count": 17,
   "metadata": {},
   "outputs": [
    {
     "name": "stdout",
     "output_type": "stream",
     "text": [
      "True\n",
      "False\n"
     ]
    }
   ],
   "source": [
    "a = float('nan')\n",
    "b = a\n",
    "print(a is b)  # True\n",
    "print(a == b)  # False"
   ]
  },
  {
   "cell_type": "markdown",
   "metadata": {},
   "source": [
    "# Задание 5\n",
    "\n",
    "Это происходит из-за особенностей работы компилятора, для одного и того же объекта в одном контексте (внутри списка) использует одну и ту же ссылку на объект, даже если они создаются отдельно"
   ]
  },
  {
   "cell_type": "markdown",
   "metadata": {},
   "source": [
    "# Задание 6\n",
    "Наверное, когда мы удаляем элементы из массива во время итерации, индексы элементов сдвигаются, и это нарушает последовательность работы цикла\n",
    "А во втором случае не возникает ошибки, потому что мы не удаляем элементы из списка и не изменяем его длину, а просто изменяем значение одного из элементов, индексы остаются теми же самыми и итерация проходит так, как и должна"
   ]
  },
  {
   "cell_type": "markdown",
   "metadata": {},
   "source": []
  }
 ],
 "metadata": {
  "kernelspec": {
   "display_name": "Python 3",
   "language": "python",
   "name": "python3"
  },
  "language_info": {
   "codemirror_mode": {
    "name": "ipython",
    "version": 3
   },
   "file_extension": ".py",
   "mimetype": "text/x-python",
   "name": "python",
   "nbconvert_exporter": "python",
   "pygments_lexer": "ipython3",
   "version": "3.11.5"
  }
 },
 "nbformat": 4,
 "nbformat_minor": 2
}
